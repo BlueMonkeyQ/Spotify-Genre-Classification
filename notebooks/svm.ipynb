{
 "cells": [
  {
   "cell_type": "code",
   "execution_count": 1,
   "metadata": {},
   "outputs": [],
   "source": [
    "import pandas as pd\n",
    "import numpy as np\n",
    "from pathlib import Path"
   ]
  },
  {
   "cell_type": "code",
   "execution_count": 2,
   "metadata": {},
   "outputs": [],
   "source": [
    "# Rescale column between range -1 & 1 using Maximum Absolute Scaling\n",
    "def max_absolute_scaling(df):\n",
    "\n",
    "    for col in df.columns:\n",
    "        try:\n",
    "            df[col] = df[col] / df[col].abs().max()\n",
    "        except TypeError:\n",
    "            pass\n",
    "    return df"
   ]
  },
  {
   "cell_type": "code",
   "execution_count": 3,
   "metadata": {},
   "outputs": [],
   "source": [
    "def cleaning(df):\n",
    "    # Drop columns\n",
    "    drop_columns = ['Unnamed: 0','track_id','artists','album_name','track_name','explicit']\n",
    "    df.drop(columns=drop_columns,axis=1,inplace=True)\n",
    "    # Scale df\n",
    "    df = max_absolute_scaling(df)\n",
    "    return df"
   ]
  },
  {
   "cell_type": "code",
   "execution_count": 4,
   "metadata": {},
   "outputs": [],
   "source": [
    "df = pd.read_csv(Path('../data/dataset.csv'))\n",
    "df = cleaning(df)"
   ]
  },
  {
   "cell_type": "code",
   "execution_count": 5,
   "metadata": {},
   "outputs": [],
   "source": [
    "X = df.drop(columns=['track_genre'],axis=1)\n",
    "y = df['track_genre']"
   ]
  },
  {
   "cell_type": "code",
   "execution_count": 13,
   "metadata": {},
   "outputs": [],
   "source": [
    "from sklearn import svm\n",
    "from sklearn.model_selection import train_test_split\n",
    "from sklearn.metrics import accuracy_score\n",
    "from sklearn.metrics import f1_score"
   ]
  },
  {
   "cell_type": "code",
   "execution_count": 14,
   "metadata": {},
   "outputs": [],
   "source": [
    "X_train, X_test, y_train, y_test = train_test_split(X,y,train_size=.80,test_size=.20,random_state=100)\n",
    "\n",
    "# kernels = ['linear', 'rbf', 'poly']\n",
    "kernels = ['linear']\n",
    "for kernel in kernels:\n",
    "  svc = svm.SVC(kernel=kernel).fit(X_train,y_train)\n",
    "  y_pred = svc.predict(X_test)\n",
    "  accuracy = accuracy_score(y_test,y_pred)\n",
    "  f1 = f1_score(y_test, y_pred)\n",
    "  print('Accuracy (Polynomial Kernel): ', \"%.2f\" % (accuracy*100))\n",
    "  print('F1 (Polynomial Kernel): ', \"%.2f\" % (f1*100))"
   ]
  }
 ],
 "metadata": {
  "kernelspec": {
   "display_name": "ml",
   "language": "python",
   "name": "python3"
  },
  "language_info": {
   "codemirror_mode": {
    "name": "ipython",
    "version": 3
   },
   "file_extension": ".py",
   "mimetype": "text/x-python",
   "name": "python",
   "nbconvert_exporter": "python",
   "pygments_lexer": "ipython3",
   "version": "3.9.16"
  },
  "orig_nbformat": 4
 },
 "nbformat": 4,
 "nbformat_minor": 2
}
